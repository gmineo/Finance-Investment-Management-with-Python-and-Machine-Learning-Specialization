{
 "cells": [
  {
   "cell_type": "markdown",
   "id": "f8536881-31ff-4f26-9c13-2a72abfa9a7a",
   "metadata": {},
   "source": [
    "## 1. Question 1\n",
    "\n",
    "Use the EDHEC Hedge Fund Indices data set that we used in the lab assignment as well as in the previous week’s assignments. Load them into Python and perform the following analysis based on data since 2000 (including all of 2000): What was the Monthly Parametric Gaussian VaR at the 1% level (as a +ve number) of the Distressed Securities strategy?\n",
    "Enter the positive number as a percent .e.g. For 5.32% enter 5.32\n",
    "NOTE: You may either round or truncate to 1 decimal place, we will accept either answer\n"
   ]
  },
  {
   "cell_type": "code",
   "execution_count": 22,
   "id": "2714150e-1294-4f0b-ac4d-25946eac6f0d",
   "metadata": {},
   "outputs": [
    {
     "name": "stdout",
     "output_type": "stream",
     "text": [
      "The autoreload extension is already loaded. To reload it, use:\n",
      "  %reload_ext autoreload\n"
     ]
    }
   ],
   "source": [
    "import pandas as pd\n",
    "import edhec_risk_kit as erk\n",
    "%load_ext autoreload\n",
    "%autoreload 2\n",
    "%matplotlib inline"
   ]
  },
  {
   "cell_type": "code",
   "execution_count": 23,
   "id": "b486b148-3480-48bc-8d51-6c9907dfb095",
   "metadata": {},
   "outputs": [],
   "source": [
    "hfi = erk.get_hfi_returns()"
   ]
  },
  {
   "cell_type": "code",
   "execution_count": 24,
   "id": "9f092097-b378-4f6f-81c8-1c4f84976f53",
   "metadata": {},
   "outputs": [],
   "source": [
    "hfi2000 = hfi[\"2000\":]"
   ]
  },
  {
   "cell_type": "code",
   "execution_count": 25,
   "id": "5065714c-e590-406d-a989-d5ebd456bc6f",
   "metadata": {},
   "outputs": [
    {
     "ename": "TypeError",
     "evalue": "_percentile_dispatcher() got multiple values for argument 'a'",
     "output_type": "error",
     "traceback": [
      "\u001b[0;31m---------------------------------------------------------------------------\u001b[0m",
      "\u001b[0;31mTypeError\u001b[0m                                 Traceback (most recent call last)",
      "\u001b[0;32m/tmp/ipykernel_69/766982367.py\u001b[0m in \u001b[0;36m<module>\u001b[0;34m\u001b[0m\n\u001b[1;32m      1\u001b[0m \u001b[0;32mimport\u001b[0m \u001b[0mnumpy\u001b[0m \u001b[0;32mas\u001b[0m \u001b[0mnp\u001b[0m\u001b[0;34m\u001b[0m\u001b[0;34m\u001b[0m\u001b[0m\n\u001b[0;32m----> 2\u001b[0;31m \u001b[0mnp\u001b[0m\u001b[0;34m.\u001b[0m\u001b[0mpercentile\u001b[0m\u001b[0;34m(\u001b[0m\u001b[0mhfi\u001b[0m\u001b[0;34m,\u001b[0m \u001b[0ma\u001b[0m\u001b[0;34m=\u001b[0m\u001b[0;36m0.01\u001b[0m\u001b[0;34m)\u001b[0m\u001b[0;34m\u001b[0m\u001b[0;34m\u001b[0m\u001b[0m\n\u001b[0m",
      "\u001b[0;32m<__array_function__ internals>\u001b[0m in \u001b[0;36mpercentile\u001b[0;34m(*args, **kwargs)\u001b[0m\n",
      "\u001b[0;31mTypeError\u001b[0m: _percentile_dispatcher() got multiple values for argument 'a'"
     ]
    }
   ],
   "source": [
    "import numpy as np\n",
    "np.percentile(hfi, a=0.01)"
   ]
  },
  {
   "cell_type": "code",
   "execution_count": 21,
   "id": "e87c3e5a-70bc-4089-838c-86a58b0697e9",
   "metadata": {},
   "outputs": [
    {
     "data": {
      "text/plain": [
       "Convertible Arbitrage     0.031674\n",
       "CTA Global                0.050938\n",
       "Distressed Securities     0.042642\n",
       "Emerging Markets          0.065496\n",
       "Equity Market Neutral     0.019800\n",
       "Event Driven              0.038540\n",
       "Fixed Income Arbitrage    0.030748\n",
       "Global Macro              0.022632\n",
       "Long/Short Equity         0.045060\n",
       "Merger Arbitrage          0.022654\n",
       "Relative Value            0.021788\n",
       "Short Selling             0.107684\n",
       "Funds Of Funds            0.027200\n",
       "dtype: float64"
      ]
     },
     "execution_count": 21,
     "metadata": {},
     "output_type": "execute_result"
    }
   ],
   "source": [
    "erk.var_historic(hfi2000, level=1)"
   ]
  },
  {
   "cell_type": "code",
   "execution_count": 26,
   "id": "16cb32d7-a16b-41e4-a1db-8625eb511da2",
   "metadata": {},
   "outputs": [
    {
     "data": {
      "text/plain": [
       "0.0"
      ]
     },
     "execution_count": 26,
     "metadata": {},
     "output_type": "execute_result"
    }
   ],
   "source": [
    "from scipy.stats import norm\n",
    "norm.ppf(.5)"
   ]
  },
  {
   "cell_type": "code",
   "execution_count": 27,
   "id": "3a98e0ca-bf88-4f75-99e2-68b6921a9794",
   "metadata": {},
   "outputs": [
    {
     "data": {
      "text/plain": [
       "-0.994457883209753"
      ]
     },
     "execution_count": 27,
     "metadata": {},
     "output_type": "execute_result"
    }
   ],
   "source": [
    "norm.ppf(.16)"
   ]
  },
  {
   "cell_type": "code",
   "execution_count": 39,
   "id": "647b9491-c66b-4225-a7f0-1a90b712762a",
   "metadata": {},
   "outputs": [
    {
     "data": {
      "text/plain": [
       "0.031430176939280456"
      ]
     },
     "execution_count": 39,
     "metadata": {},
     "output_type": "execute_result"
    }
   ],
   "source": [
    "erk.var_gaussianCF(hfi2000[\"Distressed Securities\"])"
   ]
  },
  {
   "cell_type": "markdown",
   "id": "38b963bc-aa42-4b6d-b914-caf21a6c0aeb",
   "metadata": {},
   "source": [
    "## 2. Question 2\n",
    "\n",
    "Use the same data set at the previous question. What was the 1% VaR for the same strategy after applying the Cornish-Fisher Adjustment?\n",
    "Enter the answer as a positive number, in percent terms. e.g. for 5.32% enter 5.32\n"
   ]
  },
  {
   "cell_type": "code",
   "execution_count": 40,
   "id": "fd480f9a-2747-47a3-9a25-c5638532e3e8",
   "metadata": {},
   "outputs": [
    {
     "data": {
      "text/plain": [
       "0.04966909110627921"
      ]
     },
     "execution_count": 40,
     "metadata": {},
     "output_type": "execute_result"
    }
   ],
   "source": [
    "erk.var_gaussianCF(hfi2000[\"Distressed Securities\"])"
   ]
  },
  {
   "cell_type": "markdown",
   "id": "6debf8b3-683d-4640-9a64-d422d06a1ee0",
   "metadata": {},
   "source": [
    "## 3. Question 3\n",
    "Use the same dataset as the previous question. What was the Monthly Historic VaR at the 1% level (as a +ve number) of the Distressed Securities strategy?\n",
    "Enter the answer as a positive number, in percent terms. e.g. for 5.32% enter 5.32\n"
   ]
  },
  {
   "cell_type": "code",
   "execution_count": 38,
   "id": "3140ce68-77a0-4faa-87f4-dcd3f0b2392a",
   "metadata": {},
   "outputs": [
    {
     "data": {
      "text/plain": [
       "0.04264199999999999"
      ]
     },
     "execution_count": 38,
     "metadata": {},
     "output_type": "execute_result"
    }
   ],
   "source": [
    "erk.var_historic(hfi2000[\"Distressed Securities\"])"
   ]
  },
  {
   "cell_type": "markdown",
   "id": "caeab279-a7b8-450a-93c2-ac02f8144e4e",
   "metadata": {},
   "source": [
    "## 4. Question 4\n",
    "Next, load the 30 industry return data using the erk.get_ind_returns() function that we developed during the lab sessions. For purposes of the remaining questions, use data during the 5 year period 2013-2017 (both inclusive) to estimate the expected returns as well as the covariance matrix. To be able to respond to the questions, you will need to build the MSR, EW and GMV portfolios consisting of the “Books”, “Steel”, \"Oil\", and \"Mines\" industries. Assume the risk free rate over the 5 year period is 10%.\n",
    "What is the weight of Steel in the EW Portfolio?\n",
    "Enter the answer in percent terms rounded to one decimal place. e.g. for 5.32% enter 5.3\n"
   ]
  },
  {
   "cell_type": "code",
   "execution_count": 41,
   "id": "caddde02-444b-4ca9-b450-c94c76a562e0",
   "metadata": {},
   "outputs": [],
   "source": [
    "import pandas as pd\n",
    "ind = pd.read_csv(\"data/ind30_m_vw_rets.csv\", header=0, index_col=0)/100\n",
    "ind.index = pd.to_datetime(ind.index, format=\"%Y%m\").to_period('M')"
   ]
  },
  {
   "cell_type": "code",
   "execution_count": 42,
   "id": "173f8281-eea6-4d3b-b6e7-1a205fc05c64",
   "metadata": {},
   "outputs": [],
   "source": [
    "ind.columns = ind.columns.str.strip()"
   ]
  },
  {
   "cell_type": "code",
   "execution_count": 43,
   "id": "4fda5c81-e722-4799-a987-d70a52d061cc",
   "metadata": {},
   "outputs": [
    {
     "name": "stdout",
     "output_type": "stream",
     "text": [
      "The autoreload extension is already loaded. To reload it, use:\n",
      "  %reload_ext autoreload\n"
     ]
    },
    {
     "data": {
      "text/plain": [
       "(1110, 30)"
      ]
     },
     "execution_count": 43,
     "metadata": {},
     "output_type": "execute_result"
    }
   ],
   "source": [
    "%load_ext autoreload\n",
    "%autoreload 2\n",
    "%matplotlib inline\n",
    "\n",
    "import edhec_risk_kit_107 as erk\n",
    "ind = erk.get_ind_returns()\n",
    "ind.shape"
   ]
  },
  {
   "cell_type": "code",
   "execution_count": null,
   "id": "8ff13f26-5f6a-4559-841d-c9ea452fc691",
   "metadata": {},
   "outputs": [],
   "source": [
    "erk.drawdown(ind[\"Food\"])[\"Drawdown\"].plot.line()"
   ]
  }
 ],
 "metadata": {
  "kernelspec": {
   "display_name": "Python",
   "language": "python",
   "name": "conda-env-python-py"
  },
  "language_info": {
   "codemirror_mode": {
    "name": "ipython",
    "version": 3
   },
   "file_extension": ".py",
   "mimetype": "text/x-python",
   "name": "python",
   "nbconvert_exporter": "python",
   "pygments_lexer": "ipython3",
   "version": "3.7.10"
  }
 },
 "nbformat": 4,
 "nbformat_minor": 5
}
