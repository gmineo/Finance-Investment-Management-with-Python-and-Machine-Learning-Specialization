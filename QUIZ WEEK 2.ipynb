{
 "cells": [
  {
   "cell_type": "markdown",
   "id": "f8536881-31ff-4f26-9c13-2a72abfa9a7a",
   "metadata": {},
   "source": [
    "## 1. Question 1\n",
    "\n",
    "Use the EDHEC Hedge Fund Indices data set that we used in the lab assignment as well as in the previous week’s assignments. Load them into Python and perform the following analysis based on data since 2000 (including all of 2000): What was the Monthly Parametric Gaussian VaR at the 1% level (as a +ve number) of the Distressed Securities strategy?\n",
    "Enter the positive number as a percent .e.g. For 5.32% enter 5.32\n",
    "NOTE: You may either round or truncate to 1 decimal place, we will accept either answer\n"
   ]
  },
  {
   "cell_type": "code",
   "execution_count": 20,
   "id": "596c30bf-6421-4bc4-90b0-409d5bf36df7",
   "metadata": {},
   "outputs": [],
   "source": [
    "import pandas as pd\n",
    "import numpy as np"
   ]
  },
  {
   "cell_type": "code",
   "execution_count": 13,
   "id": "2714150e-1294-4f0b-ac4d-25946eac6f0d",
   "metadata": {},
   "outputs": [
    {
     "name": "stdout",
     "output_type": "stream",
     "text": [
      "The autoreload extension is already loaded. To reload it, use:\n",
      "  %reload_ext autoreload\n"
     ]
    }
   ],
   "source": [
    "import pandas as pd\n",
    "import edhec_risk_kit_118 as erk\n",
    "%load_ext autoreload\n",
    "%autoreload 2\n",
    "%matplotlib inline"
   ]
  },
  {
   "cell_type": "code",
   "execution_count": 14,
   "id": "b486b148-3480-48bc-8d51-6c9907dfb095",
   "metadata": {},
   "outputs": [],
   "source": [
    "hfi = erk.get_hfi_returns()"
   ]
  },
  {
   "cell_type": "code",
   "execution_count": 15,
   "id": "9f092097-b378-4f6f-81c8-1c4f84976f53",
   "metadata": {},
   "outputs": [],
   "source": [
    "hfi2000 = hfi[\"2000\":]"
   ]
  },
  {
   "cell_type": "code",
   "execution_count": 16,
   "id": "5065714c-e590-406d-a989-d5ebd456bc6f",
   "metadata": {},
   "outputs": [
    {
     "ename": "TypeError",
     "evalue": "_percentile_dispatcher() got multiple values for argument 'a'",
     "output_type": "error",
     "traceback": [
      "\u001b[0;31m---------------------------------------------------------------------------\u001b[0m",
      "\u001b[0;31mTypeError\u001b[0m                                 Traceback (most recent call last)",
      "\u001b[0;32m/tmp/ipykernel_344/766982367.py\u001b[0m in \u001b[0;36m<module>\u001b[0;34m\u001b[0m\n\u001b[1;32m      1\u001b[0m \u001b[0;32mimport\u001b[0m \u001b[0mnumpy\u001b[0m \u001b[0;32mas\u001b[0m \u001b[0mnp\u001b[0m\u001b[0;34m\u001b[0m\u001b[0;34m\u001b[0m\u001b[0m\n\u001b[0;32m----> 2\u001b[0;31m \u001b[0mnp\u001b[0m\u001b[0;34m.\u001b[0m\u001b[0mpercentile\u001b[0m\u001b[0;34m(\u001b[0m\u001b[0mhfi\u001b[0m\u001b[0;34m,\u001b[0m \u001b[0ma\u001b[0m\u001b[0;34m=\u001b[0m\u001b[0;36m0.01\u001b[0m\u001b[0;34m)\u001b[0m\u001b[0;34m\u001b[0m\u001b[0;34m\u001b[0m\u001b[0m\n\u001b[0m",
      "\u001b[0;32m<__array_function__ internals>\u001b[0m in \u001b[0;36mpercentile\u001b[0;34m(*args, **kwargs)\u001b[0m\n",
      "\u001b[0;31mTypeError\u001b[0m: _percentile_dispatcher() got multiple values for argument 'a'"
     ]
    }
   ],
   "source": [
    "import numpy as np\n",
    "np.percentile(hfi, a=0.01)"
   ]
  },
  {
   "cell_type": "code",
   "execution_count": 17,
   "id": "e87c3e5a-70bc-4089-838c-86a58b0697e9",
   "metadata": {},
   "outputs": [
    {
     "data": {
      "text/plain": [
       "Convertible Arbitrage     0.031674\n",
       "CTA Global                0.050938\n",
       "Distressed Securities     0.042642\n",
       "Emerging Markets          0.065496\n",
       "Equity Market Neutral     0.019800\n",
       "Event Driven              0.038540\n",
       "Fixed Income Arbitrage    0.030748\n",
       "Global Macro              0.022632\n",
       "Long/Short Equity         0.045060\n",
       "Merger Arbitrage          0.022654\n",
       "Relative Value            0.021788\n",
       "Short Selling             0.107684\n",
       "Funds Of Funds            0.027200\n",
       "dtype: float64"
      ]
     },
     "execution_count": 17,
     "metadata": {},
     "output_type": "execute_result"
    }
   ],
   "source": [
    "erk.var_historic(hfi2000, level=1)"
   ]
  },
  {
   "cell_type": "code",
   "execution_count": 18,
   "id": "16cb32d7-a16b-41e4-a1db-8625eb511da2",
   "metadata": {},
   "outputs": [
    {
     "data": {
      "text/plain": [
       "0.0"
      ]
     },
     "execution_count": 18,
     "metadata": {},
     "output_type": "execute_result"
    }
   ],
   "source": [
    "from scipy.stats import norm\n",
    "norm.ppf(.5)"
   ]
  },
  {
   "cell_type": "code",
   "execution_count": 19,
   "id": "3a98e0ca-bf88-4f75-99e2-68b6921a9794",
   "metadata": {},
   "outputs": [
    {
     "data": {
      "text/plain": [
       "-0.994457883209753"
      ]
     },
     "execution_count": 19,
     "metadata": {},
     "output_type": "execute_result"
    }
   ],
   "source": [
    "norm.ppf(.16)"
   ]
  },
  {
   "cell_type": "code",
   "execution_count": 20,
   "id": "647b9491-c66b-4225-a7f0-1a90b712762a",
   "metadata": {},
   "outputs": [
    {
     "ename": "AttributeError",
     "evalue": "module 'edhec_risk_kit_118' has no attribute 'var_gaussianCF'",
     "output_type": "error",
     "traceback": [
      "\u001b[0;31m---------------------------------------------------------------------------\u001b[0m",
      "\u001b[0;31mAttributeError\u001b[0m                            Traceback (most recent call last)",
      "\u001b[0;32m/tmp/ipykernel_344/338304409.py\u001b[0m in \u001b[0;36m<module>\u001b[0;34m\u001b[0m\n\u001b[0;32m----> 1\u001b[0;31m \u001b[0merk\u001b[0m\u001b[0;34m.\u001b[0m\u001b[0mvar_gaussianCF\u001b[0m\u001b[0;34m(\u001b[0m\u001b[0mhfi2000\u001b[0m\u001b[0;34m[\u001b[0m\u001b[0;34m\"Distressed Securities\"\u001b[0m\u001b[0;34m]\u001b[0m\u001b[0;34m)\u001b[0m\u001b[0;34m\u001b[0m\u001b[0;34m\u001b[0m\u001b[0m\n\u001b[0m",
      "\u001b[0;31mAttributeError\u001b[0m: module 'edhec_risk_kit_118' has no attribute 'var_gaussianCF'"
     ]
    }
   ],
   "source": [
    "erk.var_gaussianCF(hfi2000[\"Distressed Securities\"])"
   ]
  },
  {
   "cell_type": "code",
   "execution_count": 21,
   "id": "a89560b2-9a62-4b57-ae95-e20bc2f9bdf4",
   "metadata": {},
   "outputs": [],
   "source": [
    "#### 3.14"
   ]
  },
  {
   "cell_type": "markdown",
   "id": "38b963bc-aa42-4b6d-b914-caf21a6c0aeb",
   "metadata": {},
   "source": [
    "## 2. Question 2\n",
    "\n",
    "Use the same data set at the previous question. What was the 1% VaR for the same strategy after applying the Cornish-Fisher Adjustment?\n",
    "Enter the answer as a positive number, in percent terms. e.g. for 5.32% enter 5.32\n"
   ]
  },
  {
   "cell_type": "code",
   "execution_count": 22,
   "id": "fd480f9a-2747-47a3-9a25-c5638532e3e8",
   "metadata": {},
   "outputs": [
    {
     "ename": "AttributeError",
     "evalue": "module 'edhec_risk_kit_118' has no attribute 'var_gaussianCF'",
     "output_type": "error",
     "traceback": [
      "\u001b[0;31m---------------------------------------------------------------------------\u001b[0m",
      "\u001b[0;31mAttributeError\u001b[0m                            Traceback (most recent call last)",
      "\u001b[0;32m/tmp/ipykernel_344/338304409.py\u001b[0m in \u001b[0;36m<module>\u001b[0;34m\u001b[0m\n\u001b[0;32m----> 1\u001b[0;31m \u001b[0merk\u001b[0m\u001b[0;34m.\u001b[0m\u001b[0mvar_gaussianCF\u001b[0m\u001b[0;34m(\u001b[0m\u001b[0mhfi2000\u001b[0m\u001b[0;34m[\u001b[0m\u001b[0;34m\"Distressed Securities\"\u001b[0m\u001b[0;34m]\u001b[0m\u001b[0;34m)\u001b[0m\u001b[0;34m\u001b[0m\u001b[0;34m\u001b[0m\u001b[0m\n\u001b[0m",
      "\u001b[0;31mAttributeError\u001b[0m: module 'edhec_risk_kit_118' has no attribute 'var_gaussianCF'"
     ]
    }
   ],
   "source": [
    "erk.var_gaussianCF(hfi2000[\"Distressed Securities\"])"
   ]
  },
  {
   "cell_type": "code",
   "execution_count": 23,
   "id": "6bed1205-77ad-4e5a-8c24-4695c3fe8524",
   "metadata": {},
   "outputs": [
    {
     "data": {
      "text/plain": [
       "4.96"
      ]
     },
     "execution_count": 23,
     "metadata": {},
     "output_type": "execute_result"
    }
   ],
   "source": [
    "4.96"
   ]
  },
  {
   "cell_type": "markdown",
   "id": "6debf8b3-683d-4640-9a64-d422d06a1ee0",
   "metadata": {},
   "source": [
    "## 3. Question 3\n",
    "Use the same dataset as the previous question. What was the Monthly Historic VaR at the 1% level (as a +ve number) of the Distressed Securities strategy?\n",
    "Enter the answer as a positive number, in percent terms. e.g. for 5.32% enter 5.32\n"
   ]
  },
  {
   "cell_type": "code",
   "execution_count": 24,
   "id": "3140ce68-77a0-4faa-87f4-dcd3f0b2392a",
   "metadata": {},
   "outputs": [
    {
     "data": {
      "text/plain": [
       "0.019579999999999997"
      ]
     },
     "execution_count": 24,
     "metadata": {},
     "output_type": "execute_result"
    }
   ],
   "source": [
    "erk.var_historic(hfi2000[\"Distressed Securities\"])"
   ]
  },
  {
   "cell_type": "code",
   "execution_count": 72,
   "id": "cf71bf37-1d0f-4db1-8117-5bc5f1907f42",
   "metadata": {},
   "outputs": [
    {
     "data": {
      "text/plain": [
       "4.26"
      ]
     },
     "execution_count": 72,
     "metadata": {},
     "output_type": "execute_result"
    }
   ],
   "source": [
    "4.26\n"
   ]
  },
  {
   "cell_type": "markdown",
   "id": "caeab279-a7b8-450a-93c2-ac02f8144e4e",
   "metadata": {},
   "source": [
    "## 4. Question 4\n",
    "Next, load the 30 industry return data using the erk.get_ind_returns() function that we developed during the lab sessions. For purposes of the remaining questions, use data during the 5 year period 2013-2017 (both inclusive) to estimate the expected returns as well as the covariance matrix. To be able to respond to the questions, you will need to build the MSR, EW and GMV portfolios consisting of the “Books”, “Steel”, \"Oil\", and \"Mines\" industries. Assume the risk free rate over the 5 year period is 10%.\n",
    "What is the weight of Steel in the EW Portfolio?\n",
    "Enter the answer in percent terms rounded to one decimal place. e.g. for 5.32% enter 5.3\n"
   ]
  },
  {
   "cell_type": "code",
   "execution_count": 1,
   "id": "472ba8a6-cfc8-4665-9c6c-48a2bd4c6884",
   "metadata": {},
   "outputs": [],
   "source": [
    "import edhec_risk_kit_111 as erk\n",
    "%load_ext autoreload\n",
    "%autoreload 2\n",
    "%matplotlib inline"
   ]
  },
  {
   "cell_type": "code",
   "execution_count": 2,
   "id": "061e2bc7-d611-471f-972f-3ec8765c49c7",
   "metadata": {},
   "outputs": [],
   "source": [
    "ind = erk.get_ind_returns()"
   ]
  },
  {
   "cell_type": "code",
   "execution_count": 3,
   "id": "495db919-1d71-4212-aa6e-678e739f9f31",
   "metadata": {},
   "outputs": [],
   "source": [
    "l = [\"Books\", \"Steel\", \"Oil\", \"Mines\"]\n",
    "ind = ind[l]"
   ]
  },
  {
   "cell_type": "code",
   "execution_count": 4,
   "id": "976d1c33-94a4-48cc-ae31-7fa6aa4a9157",
   "metadata": {},
   "outputs": [
    {
     "data": {
      "text/html": [
       "<div>\n",
       "<style scoped>\n",
       "    .dataframe tbody tr th:only-of-type {\n",
       "        vertical-align: middle;\n",
       "    }\n",
       "\n",
       "    .dataframe tbody tr th {\n",
       "        vertical-align: top;\n",
       "    }\n",
       "\n",
       "    .dataframe thead th {\n",
       "        text-align: right;\n",
       "    }\n",
       "</style>\n",
       "<table border=\"1\" class=\"dataframe\">\n",
       "  <thead>\n",
       "    <tr style=\"text-align: right;\">\n",
       "      <th></th>\n",
       "      <th>Books</th>\n",
       "      <th>Steel</th>\n",
       "      <th>Oil</th>\n",
       "      <th>Mines</th>\n",
       "    </tr>\n",
       "  </thead>\n",
       "  <tbody>\n",
       "    <tr>\n",
       "      <th>1926-07</th>\n",
       "      <td>0.1097</td>\n",
       "      <td>0.0407</td>\n",
       "      <td>-0.0140</td>\n",
       "      <td>0.0564</td>\n",
       "    </tr>\n",
       "    <tr>\n",
       "      <th>1926-08</th>\n",
       "      <td>0.1001</td>\n",
       "      <td>0.0217</td>\n",
       "      <td>0.0369</td>\n",
       "      <td>0.0055</td>\n",
       "    </tr>\n",
       "    <tr>\n",
       "      <th>1926-09</th>\n",
       "      <td>-0.0099</td>\n",
       "      <td>0.0015</td>\n",
       "      <td>-0.0369</td>\n",
       "      <td>0.0174</td>\n",
       "    </tr>\n",
       "    <tr>\n",
       "      <th>1926-10</th>\n",
       "      <td>0.0947</td>\n",
       "      <td>-0.0385</td>\n",
       "      <td>-0.0104</td>\n",
       "      <td>-0.0320</td>\n",
       "    </tr>\n",
       "    <tr>\n",
       "      <th>1926-11</th>\n",
       "      <td>-0.0580</td>\n",
       "      <td>0.0386</td>\n",
       "      <td>0.0006</td>\n",
       "      <td>0.0846</td>\n",
       "    </tr>\n",
       "  </tbody>\n",
       "</table>\n",
       "</div>"
      ],
      "text/plain": [
       "          Books   Steel     Oil   Mines\n",
       "1926-07  0.1097  0.0407 -0.0140  0.0564\n",
       "1926-08  0.1001  0.0217  0.0369  0.0055\n",
       "1926-09 -0.0099  0.0015 -0.0369  0.0174\n",
       "1926-10  0.0947 -0.0385 -0.0104 -0.0320\n",
       "1926-11 -0.0580  0.0386  0.0006  0.0846"
      ]
     },
     "execution_count": 4,
     "metadata": {},
     "output_type": "execute_result"
    }
   ],
   "source": [
    "ind.head()"
   ]
  },
  {
   "cell_type": "code",
   "execution_count": 5,
   "id": "33830943-5824-4e07-8ecc-8abdcb5482b0",
   "metadata": {},
   "outputs": [
    {
     "data": {
      "text/plain": [
       "25.0"
      ]
     },
     "execution_count": 5,
     "metadata": {},
     "output_type": "execute_result"
    }
   ],
   "source": [
    "1/4*100"
   ]
  },
  {
   "cell_type": "code",
   "execution_count": 6,
   "id": "6bb85d5e-e428-42f0-8655-5f572b1c374e",
   "metadata": {},
   "outputs": [
    {
     "data": {
      "text/plain": [
       "25"
      ]
     },
     "execution_count": 6,
     "metadata": {},
     "output_type": "execute_result"
    }
   ],
   "source": [
    "25"
   ]
  },
  {
   "cell_type": "markdown",
   "id": "69760a4a-aeb9-486e-9399-79631409cfae",
   "metadata": {},
   "source": [
    "What is the weight of the largest component of the MSR portfolio?   \n",
    "\n",
    "Enter the answer in percent terms rounded to one decimal place. e.g. for 5.32% enter 5.3"
   ]
  },
  {
   "cell_type": "markdown",
   "id": "9fcf607f-2e35-459b-9e35-eca5fd8190ed",
   "metadata": {},
   "source": [
    "5.\n",
    "Question 5\n",
    "\n",
    "What is the weight of the largest component of the MSR portfolio?   "
   ]
  },
  {
   "cell_type": "code",
   "execution_count": 7,
   "id": "7aac2292-6dec-486e-a63a-036c2b699260",
   "metadata": {},
   "outputs": [],
   "source": [
    "er = erk.annualize_rets(ind[\"2013\":\"2017\"], 12)"
   ]
  },
  {
   "cell_type": "code",
   "execution_count": 8,
   "id": "d4eb0d41-3b80-49bb-87ee-b0467b5e8bc7",
   "metadata": {},
   "outputs": [],
   "source": [
    "cov = ind[\"2013\":\"2017\"].cov()"
   ]
  },
  {
   "cell_type": "code",
   "execution_count": 9,
   "id": "8c6e21f4-20df-461c-8516-06650e2d1991",
   "metadata": {},
   "outputs": [],
   "source": [
    "riskfree_rate = 0.1"
   ]
  },
  {
   "cell_type": "code",
   "execution_count": 10,
   "id": "17edd2dc-9ae0-4bea-bc00-1da649dd847c",
   "metadata": {},
   "outputs": [
    {
     "data": {
      "text/plain": [
       "100.0"
      ]
     },
     "execution_count": 10,
     "metadata": {},
     "output_type": "execute_result"
    }
   ],
   "source": [
    "msr_w = erk.msr(riskfree_rate, er, cov)\n",
    "round(msr_w.max()*100,2)"
   ]
  },
  {
   "cell_type": "code",
   "execution_count": 11,
   "id": "ad3d2589-3e9f-41f8-a28e-1e512004f7bc",
   "metadata": {},
   "outputs": [
    {
     "data": {
      "text/plain": [
       "array([1.46306578e-14, 1.00000000e+00, 0.00000000e+00, 0.00000000e+00])"
      ]
     },
     "execution_count": 11,
     "metadata": {},
     "output_type": "execute_result"
    }
   ],
   "source": [
    "msr_w"
   ]
  },
  {
   "cell_type": "markdown",
   "id": "1e446cbd-a222-4c64-b525-49efc72a5c36",
   "metadata": {},
   "source": [
    "6.\n",
    "Question 6\n",
    "\n",
    "Which of the 4 components has the largest weight in the MSR portfolio?"
   ]
  },
  {
   "cell_type": "code",
   "execution_count": 12,
   "id": "2828a64f-66e0-41f0-b7c2-534516c63d5e",
   "metadata": {},
   "outputs": [],
   "source": [
    "l = [\"Books\", \"Steel\", \"Oil\", \"Mines\"]"
   ]
  },
  {
   "cell_type": "code",
   "execution_count": 14,
   "id": "621c2c1b-d42e-493a-b7d7-2472327f7c7a",
   "metadata": {},
   "outputs": [
    {
     "data": {
      "text/plain": [
       "'Steel'"
      ]
     },
     "execution_count": 14,
     "metadata": {},
     "output_type": "execute_result"
    }
   ],
   "source": [
    "l[erk.msr(riskfree_rate, er, cov).argmax(axis=0)]"
   ]
  },
  {
   "cell_type": "code",
   "execution_count": 15,
   "id": "0b40c9b4-4ee8-4029-b743-a23ab8b9359d",
   "metadata": {
    "tags": []
   },
   "outputs": [],
   "source": [
    "# Steel"
   ]
  },
  {
   "cell_type": "markdown",
   "id": "cc2a3544-0996-4161-bd14-a001694cf45b",
   "metadata": {},
   "source": [
    "7.\n",
    "Question 7\n",
    "\n",
    "How many of the components of the MSR portfolio have non-zero weights?  "
   ]
  },
  {
   "cell_type": "code",
   "execution_count": 16,
   "id": "5a9bbaa2-27b0-4937-bde9-31208156d8b3",
   "metadata": {},
   "outputs": [
    {
     "data": {
      "text/plain": [
       "1"
      ]
     },
     "execution_count": 16,
     "metadata": {},
     "output_type": "execute_result"
    }
   ],
   "source": [
    "1"
   ]
  },
  {
   "cell_type": "markdown",
   "id": "4b957d9c-9b81-4cee-ab02-a05b9b7b490f",
   "metadata": {},
   "source": [
    "8.\n",
    "Question 8\n",
    "\n",
    "What is the weight of the largest component of the GMV portfolio?"
   ]
  },
  {
   "cell_type": "code",
   "execution_count": 17,
   "id": "03ab7e3d-ffdd-4129-bdd3-329a645da2b6",
   "metadata": {},
   "outputs": [
    {
     "data": {
      "text/plain": [
       "array([4.77024858e-01, 2.38524478e-18, 4.34112041e-01, 8.88631011e-02])"
      ]
     },
     "execution_count": 17,
     "metadata": {},
     "output_type": "execute_result"
    }
   ],
   "source": [
    "erk.gmv(cov)"
   ]
  },
  {
   "cell_type": "code",
   "execution_count": 21,
   "id": "71bc12fc-1b52-4080-b861-645a766453bc",
   "metadata": {},
   "outputs": [
    {
     "data": {
      "text/plain": [
       "array([47.7])"
      ]
     },
     "execution_count": 21,
     "metadata": {},
     "output_type": "execute_result"
    }
   ],
   "source": [
    "np.round([erk.gmv(cov).max(axis=0)*100],2)"
   ]
  },
  {
   "cell_type": "code",
   "execution_count": 22,
   "id": "a776b1c1-c3cd-4fad-8df1-cdf4a356a988",
   "metadata": {},
   "outputs": [
    {
     "data": {
      "text/plain": [
       "47.7"
      ]
     },
     "execution_count": 22,
     "metadata": {},
     "output_type": "execute_result"
    }
   ],
   "source": [
    "47.70"
   ]
  },
  {
   "cell_type": "markdown",
   "id": "39a94235-8874-48a1-8940-6acfa0c26e7c",
   "metadata": {},
   "source": [
    "9.\n",
    "Question 9\n",
    "\n",
    "Which of the 4 components has the largest weight in the GMV portfolio?    "
   ]
  },
  {
   "cell_type": "code",
   "execution_count": 23,
   "id": "491954d0-5de5-4a9e-9d55-03e6e53e7148",
   "metadata": {},
   "outputs": [
    {
     "data": {
      "text/plain": [
       "'Books'"
      ]
     },
     "execution_count": 23,
     "metadata": {},
     "output_type": "execute_result"
    }
   ],
   "source": [
    "l[erk.gmv(cov).argmax(axis=0)]"
   ]
  },
  {
   "cell_type": "code",
   "execution_count": 24,
   "id": "2b3be70b-6b2d-4407-9996-779d6e9b87cd",
   "metadata": {},
   "outputs": [],
   "source": [
    "# Books"
   ]
  },
  {
   "cell_type": "markdown",
   "id": "299edb1e-2832-43d3-a610-19ba170e3b29",
   "metadata": {},
   "source": [
    "10.\n",
    "Question 10\n",
    "\n",
    " How many of the components of the GMV portfolio have non-zero weights?    "
   ]
  },
  {
   "cell_type": "code",
   "execution_count": 25,
   "id": "cf8bb8fc-8636-4504-ab5b-e68c4105577a",
   "metadata": {},
   "outputs": [],
   "source": [
    "gmv_wgts = erk.gmv(cov)"
   ]
  },
  {
   "cell_type": "code",
   "execution_count": 28,
   "id": "101c94ac-a7f1-47e5-9ada-85fc14654b0f",
   "metadata": {},
   "outputs": [
    {
     "data": {
      "text/plain": [
       "3"
      ]
     },
     "execution_count": 28,
     "metadata": {},
     "output_type": "execute_result"
    }
   ],
   "source": [
    "len(gmv_wgts[gmv_wgts > 0.001])"
   ]
  },
  {
   "cell_type": "code",
   "execution_count": 82,
   "id": "94e33476-1cac-4ded-91a1-cc039f5a68a1",
   "metadata": {},
   "outputs": [
    {
     "data": {
      "text/plain": [
       "3"
      ]
     },
     "execution_count": 82,
     "metadata": {},
     "output_type": "execute_result"
    }
   ],
   "source": [
    "3"
   ]
  },
  {
   "cell_type": "markdown",
   "id": "f457e5bd-9654-429f-8d10-e4e5fbd6db54",
   "metadata": {},
   "source": [
    "11.\n",
    "Question 11\n",
    "\n",
    "Assume two different investors invested in the GMV and MSR portfolios at the start of 2018 using the weights we just computed. Compute the annualized volatility of these two portfolios over the next 12 months of 2018? (Hint: Use the portfolio_vol code we developed in the lab and use ind[“2018”][l].cov() to compute the covariance matrix for 2018, assuming that the variable ind holds the industry returns and the variable l holds the list of industry portfolios you are willing to hold. Don’t forget to annualize the volatility)"
   ]
  },
  {
   "cell_type": "code",
   "execution_count": 34,
   "id": "6f3c87d4-37ec-4b20-883f-a1bc2b8a8a8c",
   "metadata": {},
   "outputs": [
    {
     "name": "stderr",
     "output_type": "stream",
     "text": [
      "/home/jupyterlab/conda/envs/python/lib/python3.7/site-packages/ipykernel_launcher.py:1: FutureWarning: Indexing a DataFrame with a datetimelike index using a single string to slice the rows, like `frame[string]`, is deprecated and will be removed in a future version. Use `frame.loc[string]` instead.\n",
      "  \"\"\"Entry point for launching an IPython kernel.\n"
     ]
    }
   ],
   "source": [
    "covmat = ind[\"2018\"].cov()"
   ]
  },
  {
   "cell_type": "code",
   "execution_count": 38,
   "id": "655caeb2-59bc-4696-95f2-f4b653798900",
   "metadata": {},
   "outputs": [
    {
     "data": {
      "text/plain": [
       "21.98398818148407"
      ]
     },
     "execution_count": 38,
     "metadata": {},
     "output_type": "execute_result"
    }
   ],
   "source": [
    "erk.portfolio_vol(msr_w, cov_1) * np.sqrt(12)*100 "
   ]
  },
  {
   "cell_type": "markdown",
   "id": "a899b76e-8c96-4776-8051-3ac9e999febc",
   "metadata": {},
   "source": [
    "12.\n",
    "Question 12\n",
    "\n",
    "What would be the annualized volatility over 2018 using the weights of the GMV portfolio? (Reminder and Hint: Use the portfolio_vol code we developed in the lab and use ind[“2018”][l].cov() to compute the covariance matrix for 2018, assuming that the variable ind holds the industry returns and the variable l holds the list of industry portfolios you are willing to hold. Don’t forget to annualize the volatility) \n",
    "\n",
    "Enter the answer in percent terms. e.g. for 5.32% enter 5.32"
   ]
  },
  {
   "cell_type": "code",
   "execution_count": 37,
   "id": "8eca33c1-dc65-420b-9115-1c91efd03d3e",
   "metadata": {},
   "outputs": [
    {
     "data": {
      "text/plain": [
       "18.97373464872575"
      ]
     },
     "execution_count": 37,
     "metadata": {},
     "output_type": "execute_result"
    }
   ],
   "source": [
    "erk.portfolio_vol(gmv_wgts, cov_1) * np.sqrt(12)*100"
   ]
  },
  {
   "cell_type": "code",
   "execution_count": null,
   "id": "92fb7fb0-4c7c-4f8e-9421-4f9020ca4673",
   "metadata": {},
   "outputs": [],
   "source": []
  }
 ],
 "metadata": {
  "kernelspec": {
   "display_name": "Python",
   "language": "python",
   "name": "conda-env-python-py"
  },
  "language_info": {
   "codemirror_mode": {
    "name": "ipython",
    "version": 3
   },
   "file_extension": ".py",
   "mimetype": "text/x-python",
   "name": "python",
   "nbconvert_exporter": "python",
   "pygments_lexer": "ipython3",
   "version": "3.7.10"
  }
 },
 "nbformat": 4,
 "nbformat_minor": 5
}
