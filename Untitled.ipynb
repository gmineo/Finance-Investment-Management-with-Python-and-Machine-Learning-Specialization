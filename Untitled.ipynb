{
 "cells": [
  {
   "cell_type": "code",
   "execution_count": 5,
   "id": "777d131a-6bea-444c-ba15-568994d46d53",
   "metadata": {},
   "outputs": [],
   "source": [
    "import edhec_risk_kit as sasa"
   ]
  },
  {
   "cell_type": "code",
   "execution_count": null,
   "id": "0c157020-4d5d-4cf2-b5be-9c7ab2269f4c",
   "metadata": {},
   "outputs": [],
   "source": []
  }
 ],
 "metadata": {
  "kernelspec": {
   "display_name": "Python",
   "language": "python",
   "name": "conda-env-python-py"
  },
  "language_info": {
   "codemirror_mode": {
    "name": "ipython",
    "version": 3
   },
   "file_extension": ".py",
   "mimetype": "text/x-python",
   "name": "python",
   "nbconvert_exporter": "python",
   "pygments_lexer": "ipython3",
   "version": "3.7.10"
  }
 },
 "nbformat": 4,
 "nbformat_minor": 5
}
