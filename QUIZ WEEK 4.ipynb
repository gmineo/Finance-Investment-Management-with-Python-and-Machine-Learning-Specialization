{
 "cells": [
  {
   "cell_type": "code",
   "execution_count": 39,
   "id": "cf594276-db34-4219-aa46-3696825013f4",
   "metadata": {},
   "outputs": [
    {
     "name": "stdout",
     "output_type": "stream",
     "text": [
      "The autoreload extension is already loaded. To reload it, use:\n",
      "  %reload_ext autoreload\n"
     ]
    }
   ],
   "source": [
    "import numpy as np\n",
    "import pandas as pd\n",
    "import edhec_risk_kit_128 as erk\n",
    "%matplotlib inline\n",
    "%load_ext autoreload\n",
    "%autoreload 2"
   ]
  },
  {
   "cell_type": "markdown",
   "id": "9046ed14-c961-49ff-931f-755f33cba83c",
   "metadata": {},
   "source": [
    "## 1. Question 1\n",
    "\n",
    "In the following questions, we will be working with three bonds:\n",
    "\n",
    "    B1 is a 15 Year Bond with a Face Value of $1000 that pays a 5% coupon semi-annually (2 times a year)\n",
    "\n",
    "    B2 is a 5 Year Bond with a Face value of $1000 that pays a 6% coupon quarterly (4 times a year)\n",
    "\n",
    "    B3 is a 10 Year Zero-Coupon Bond with a Face Value of $1000 (Hint: you can still use the erk.bond_cash_flows() and erk.bond_price() by setting the coupon amount to 0% and coupons_per_year to 1)  Assume the yield curve is flat at 5%. Duration refers to Macaulay Duration\n",
    "\n",
    "Hint: the macaulay_duration function gives as output the duration expressed in periods and not in years. If you want to get the yearly duration you need to divide the duration for coupons_per_year; \n",
    "\n",
    "e.g.: duarion_B2 = erk.macaulay_duration(flows_B2, 0.05/4)/4\n",
    "Which of the three bonds is the most expensive?\n",
    "1 / 1 point\n",
    "\n",
    "B1\n",
    "\n",
    "B2\n",
    "\n",
    "B3"
   ]
  },
  {
   "cell_type": "code",
   "execution_count": 40,
   "id": "9002e98f-6f14-44cb-8090-92d5e88a6687",
   "metadata": {},
   "outputs": [
    {
     "data": {
      "text/plain": [
       "0    109.275393\n",
       "dtype: float64"
      ]
     },
     "execution_count": 40,
     "metadata": {},
     "output_type": "execute_result"
    }
   ],
   "source": [
    "erk.bond_price(5,100,.05,12, .03)"
   ]
  },
  {
   "cell_type": "code",
   "execution_count": 59,
   "id": "f92f0642-d326-451a-b2c5-786e9098da89",
   "metadata": {},
   "outputs": [],
   "source": [
    "B1 = erk.bond_price(15,1000,0.05,2,0.05)"
   ]
  },
  {
   "cell_type": "code",
   "execution_count": 60,
   "id": "258017e0-c308-463c-89b8-659f7fa41fcc",
   "metadata": {},
   "outputs": [],
   "source": [
    "B2 = erk.bond_price(5,1000,0.06,4,0.05)"
   ]
  },
  {
   "cell_type": "code",
   "execution_count": 61,
   "id": "4fd04ddc-362c-4e5d-ab40-d6fb8b25b3e3",
   "metadata": {},
   "outputs": [],
   "source": [
    "B3 = erk.bond_price(10,1000,0,1,0.05)"
   ]
  },
  {
   "cell_type": "code",
   "execution_count": 62,
   "id": "e9807170-2950-49b6-b3af-5bfe2511fc7c",
   "metadata": {},
   "outputs": [
    {
     "data": {
      "text/plain": [
       "0    1000.0\n",
       "dtype: float64"
      ]
     },
     "execution_count": 62,
     "metadata": {},
     "output_type": "execute_result"
    }
   ],
   "source": [
    "B1\n"
   ]
  },
  {
   "cell_type": "code",
   "execution_count": 63,
   "id": "0502d4e0-7699-44b1-9fd3-6d76bffa8443",
   "metadata": {},
   "outputs": [
    {
     "data": {
      "text/plain": [
       "0    1043.99829\n",
       "dtype: float64"
      ]
     },
     "execution_count": 63,
     "metadata": {},
     "output_type": "execute_result"
    }
   ],
   "source": [
    "B2"
   ]
  },
  {
   "cell_type": "code",
   "execution_count": 64,
   "id": "13bd7655-40b3-43d8-9c15-e6eccc4d7908",
   "metadata": {},
   "outputs": [
    {
     "data": {
      "text/plain": [
       "0    613.913254\n",
       "dtype: float64"
      ]
     },
     "execution_count": 64,
     "metadata": {},
     "output_type": "execute_result"
    }
   ],
   "source": [
    "B3"
   ]
  },
  {
   "cell_type": "markdown",
   "id": "c2bfac3e-90b6-4a82-a6e0-709817f895c6",
   "metadata": {
    "tags": []
   },
   "source": [
    "## 2. Question 2\n",
    "\n",
    "Which of the three bonds is the least expensive?\n",
    "1 / 1 point\n",
    "\n",
    "B1\n",
    "\n",
    "B3\n",
    "\n",
    "B2"
   ]
  },
  {
   "cell_type": "markdown",
   "id": "633aac1c-824a-4ff0-bbce-6f773d367b6b",
   "metadata": {},
   "source": [
    "## 3. Question 3\n",
    "\n",
    "What is the price of the 10 Year Zero Coupon Bond B3?\n",
    "\n",
    "Enter the answer rounded to the nearest Dollar. e.g. if you compute the price as $45.35, enter the number 45.\n",
    "\n",
    "613.91\n"
   ]
  },
  {
   "cell_type": "markdown",
   "id": "20f26c3d-0307-4317-9305-60a93586b2a6",
   "metadata": {},
   "source": [
    "## 4. Question 4\n",
    "\n",
    "Which of the three bonds has the highest (Macaulay) Duration?\n",
    "1 / 1 point\n",
    "\n",
    "B3\n",
    "\n",
    "B1\n",
    "\n",
    "B2"
   ]
  },
  {
   "cell_type": "code",
   "execution_count": 169,
   "id": "1d09c433-fa00-4096-a069-6c9c1aae2031",
   "metadata": {},
   "outputs": [],
   "source": [
    "B1_dur=erk.macaulay_duration(erk.bond_cash_flows(15,1000,0.05,2),0.05/2)"
   ]
  },
  {
   "cell_type": "code",
   "execution_count": 170,
   "id": "68fcde96-d57d-4fcc-af66-9870b8c54ca9",
   "metadata": {},
   "outputs": [],
   "source": [
    "d_l=B1_dur/2"
   ]
  },
  {
   "cell_type": "code",
   "execution_count": 171,
   "id": "1da64946-4b71-4e27-ab00-5b1351e391f5",
   "metadata": {},
   "outputs": [
    {
     "data": {
      "text/plain": [
       "10.72677495379012"
      ]
     },
     "execution_count": 171,
     "metadata": {},
     "output_type": "execute_result"
    }
   ],
   "source": [
    "d_l"
   ]
  },
  {
   "cell_type": "code",
   "execution_count": 172,
   "id": "1f3fe774-7010-4865-92b0-2025e70c7ab6",
   "metadata": {},
   "outputs": [],
   "source": [
    "B2_dur=erk.macaulay_duration(erk.bond_cash_flows(5,1000,0.06,4), 0.05/4)"
   ]
  },
  {
   "cell_type": "code",
   "execution_count": 173,
   "id": "33c74a8b-62f9-4950-999a-dbe7c9586e87",
   "metadata": {},
   "outputs": [],
   "source": [
    "d_s=B2_dur/4"
   ]
  },
  {
   "cell_type": "code",
   "execution_count": 174,
   "id": "cb293832-c41e-4b50-ab06-6176d966ab06",
   "metadata": {},
   "outputs": [
    {
     "data": {
      "text/plain": [
       "4.373363222636413"
      ]
     },
     "execution_count": 174,
     "metadata": {},
     "output_type": "execute_result"
    }
   ],
   "source": [
    "d_s"
   ]
  },
  {
   "cell_type": "code",
   "execution_count": 175,
   "id": "26cd0b62-d90d-4434-b80d-d884992174f5",
   "metadata": {},
   "outputs": [],
   "source": [
    "B3_dur=erk.macaulay_duration(erk.bond_cash_flows(10,1000,0,1), 0.05/1)"
   ]
  },
  {
   "cell_type": "code",
   "execution_count": 176,
   "id": "1bcc77bd-ef31-41f2-90f3-5c88024b638d",
   "metadata": {},
   "outputs": [
    {
     "data": {
      "text/plain": [
       "10.0"
      ]
     },
     "execution_count": 176,
     "metadata": {},
     "output_type": "execute_result"
    }
   ],
   "source": [
    "B3_dur"
   ]
  },
  {
   "cell_type": "markdown",
   "id": "569287f5-c000-436f-906c-54604d593006",
   "metadata": {},
   "source": [
    "## 5. Question 5\n",
    "\n",
    "Which of the three bonds has the lowest (Macaulay) Duration?\n",
    "1 / 1 point\n",
    "\n",
    "B3\n",
    "\n",
    "B1\n",
    "\n",
    "B2"
   ]
  },
  {
   "cell_type": "markdown",
   "id": "69c0592f-012f-4f0e-9e03-72d0dd8410b8",
   "metadata": {},
   "source": [
    "## 6. Question 6\n",
    "\n",
    "What is the duration of the 5 year bond B2?\n",
    "\n",
    "Enter the answer as a number - e.g. for 5.43 years, enter 5.43. \n",
    "1 / 1 point\n",
    "\n",
    "4.37"
   ]
  },
  {
   "cell_type": "markdown",
   "id": "4236c53c-0739-4a3d-80eb-4e4ae05df44d",
   "metadata": {},
   "source": [
    "## 7. Question 7\n",
    "\n",
    "Assume a sequence of 3 liabilities of $100,000, $200,000 and $300,000 that are 3, 5 and 10 years away,\n",
    " respectively. What is the Duration of the liabilities?\n",
    "\n",
    "(Reminder:  Assume the yield curve is flat at 5%. Duration refers to Macaulay Duration)\n",
    "\n",
    "Enter the answer as a number - e.g. for 5.43 years, enter 5.43. \n",
    "\n",
    "\n",
    "6.75"
   ]
  },
  {
   "cell_type": "code",
   "execution_count": 122,
   "id": "00f40327-20ba-44de-83b6-7f92d144fb1d",
   "metadata": {},
   "outputs": [],
   "source": [
    "def macaulay_duration(flows, discount_rate):\n",
    "    \"\"\"\n",
    "    Computes the Macaulay Duration of a sequence of cash flows, given a per-period discount rate\n",
    "    \"\"\"\n",
    "    discounted_flows = discount(flows.index, discount_rate)*pd.DataFrame(flows)\n",
    "    weights = discounted_flows/discounted_flows.sum()\n",
    "    return np.average(flows.index, weights=weights.iloc[:,0])"
   ]
  },
  {
   "cell_type": "code",
   "execution_count": 135,
   "id": "7a5e9835-7937-4fac-ad26-83081f45b6ee",
   "metadata": {},
   "outputs": [],
   "source": [
    "def match_durations(cf_t, cf_s, cf_l, discount_rate):\n",
    "    \"\"\"\n",
    "    Returns the weight W in cf_s that, along with (1-W) in cf_l will have an effective\n",
    "    duration that matches cf_t\n",
    "    \"\"\"\n",
    "    d_t \n",
    "    d_s \n",
    "    d_l \n",
    "    return (d_l - d_t)/(d_l - d_s)"
   ]
  },
  {
   "cell_type": "code",
   "execution_count": 164,
   "id": "095ef134-e89d-40a0-8593-facd44f02dc2",
   "metadata": {},
   "outputs": [],
   "source": [
    "liabilities = pd.Series(data = [100000, 200000,300000], index=[3, 5,10])\n",
    "d_t=erk.macaulay_duration(liabilities, .05)"
   ]
  },
  {
   "cell_type": "code",
   "execution_count": 177,
   "id": "10da77c0-7749-48e4-9e72-9a86ed1a9edb",
   "metadata": {},
   "outputs": [
    {
     "data": {
      "text/plain": [
       "6.750917852744651"
      ]
     },
     "execution_count": 177,
     "metadata": {},
     "output_type": "execute_result"
    }
   ],
   "source": [
    "d_t"
   ]
  },
  {
   "cell_type": "markdown",
   "id": "de4377db-bd26-4e65-8c84-05101ba331d4",
   "metadata": {},
   "source": [
    "## 8. Question 8\n",
    "\n",
    "Assuming the same set of liabilities as the previous question (i.e. a sequence of 3 liabilities of $100,000, $200,000 and $300,000 that are 3, 5 and 10 years away,\n",
    " respectively) build a Duration Matched Portfolio of B1 and B2 to match these liabilities. What is the weight of B2 in the portfolio? (Hint: the code\n",
    " we developed in class erk.match_durations() assumes that all the bonds have the same number of coupons\n",
    " per year. This is not the case here, so you will either need to enhance the code or compute the weight directly\n",
    " e.g. by entering the steps in a Jupyter Notebook Cell or at the Python Command Line)\n",
    "\n",
    "Enter the weight as a percentage. For instance, if you compute the weight as 34.66%, enter 34.66.\n",
    "\n",
    "\n",
    "62.58"
   ]
  },
  {
   "cell_type": "code",
   "execution_count": 165,
   "id": "e4319e26-75b1-4b1f-b1d3-cc6e7a845ce2",
   "metadata": {},
   "outputs": [],
   "source": [
    "    d_s = B2_dur/4\n",
    "    d_l = B1_dur/2\n",
    "    Ws= (d_l - d_t)/(d_l - d_s)"
   ]
  },
  {
   "cell_type": "code",
   "execution_count": 166,
   "id": "06076b4a-b3ac-4252-9904-39e1a54ab372",
   "metadata": {},
   "outputs": [
    {
     "data": {
      "text/plain": [
       "0.6257830075060314"
      ]
     },
     "execution_count": 166,
     "metadata": {},
     "output_type": "execute_result"
    }
   ],
   "source": [
    "Ws"
   ]
  },
  {
   "cell_type": "markdown",
   "id": "c6d79b65-0ce9-4cfb-a257-e763611ecf5f",
   "metadata": {},
   "source": [
    "## 9. Question 9\n",
    "\n",
    "Assume you can use any of the bonds B1, B2 and B3 to build a duration matched bond portfolio matched\n",
    " to the liabilities. Which combination of 2 bonds can you NOT use to build a duration matched bond portfolio?\n",
    "0 / 1 point\n",
    "\n",
    "B1+B3\n",
    "\n",
    "ANY PAIR WILL WORK\n",
    "\n",
    "B2+B3\n",
    "\n",
    "B1+B2"
   ]
  },
  {
   "cell_type": "markdown",
   "id": "d5cec007-482e-48af-9cbc-ffd956bc7146",
   "metadata": {},
   "source": [
    "## 10. Question 10\n",
    "\n",
    "Assuming the same liabilities as the previous questions (i.e. a sequence of 3 liabilities of $100,000, $200,000 and $300,000 that are 3, 5 and 10 years away,\n",
    " respectively), build a Duration Matched Portfolio of B2 and B3 to match the liabilities.\n",
    "What is the weight of B2 in this portfolio?\n",
    "\n",
    "Enter the answer as a single number. For instance, if you compute the weight as 65.32% enter 65.32.\n",
    "\n",
    "57.74"
   ]
  },
  {
   "cell_type": "code",
   "execution_count": 179,
   "id": "348b9cc6-4593-494f-8f90-74041cd14df4",
   "metadata": {},
   "outputs": [],
   "source": [
    "    d_s = B2_dur/4\n",
    "    d_l = B3_dur\n",
    "    Ws= (d_l - d_t)/(d_l - d_s)"
   ]
  },
  {
   "cell_type": "code",
   "execution_count": 180,
   "id": "bb0e2b45-13b8-4f73-a8a9-ff3545be0b3a",
   "metadata": {},
   "outputs": [
    {
     "data": {
      "text/plain": [
       "0.5774465770256697"
      ]
     },
     "execution_count": 180,
     "metadata": {},
     "output_type": "execute_result"
    }
   ],
   "source": [
    "Ws"
   ]
  },
  {
   "cell_type": "code",
   "execution_count": null,
   "id": "03031a44-3818-4089-96d0-884915b60fb9",
   "metadata": {},
   "outputs": [],
   "source": []
  }
 ],
 "metadata": {
  "kernelspec": {
   "display_name": "Python",
   "language": "python",
   "name": "conda-env-python-py"
  },
  "language_info": {
   "codemirror_mode": {
    "name": "ipython",
    "version": 3
   },
   "file_extension": ".py",
   "mimetype": "text/x-python",
   "name": "python",
   "nbconvert_exporter": "python",
   "pygments_lexer": "ipython3",
   "version": "3.7.10"
  }
 },
 "nbformat": 4,
 "nbformat_minor": 5
}
