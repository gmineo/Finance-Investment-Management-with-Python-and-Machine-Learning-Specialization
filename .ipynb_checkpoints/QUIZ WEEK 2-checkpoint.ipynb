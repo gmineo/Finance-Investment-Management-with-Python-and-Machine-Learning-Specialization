{
 "cells": [
  {
   "cell_type": "markdown",
   "id": "f8536881-31ff-4f26-9c13-2a72abfa9a7a",
   "metadata": {},
   "source": [
    "## 1. Question 1\n",
    "\n",
    "Use the EDHEC Hedge Fund Indices data set that we used in the lab assignment as well as in the previous week’s assignments. Load them into Python and perform the following analysis based on data since 2000 (including all of 2000): What was the Monthly Parametric Gaussian VaR at the 1% level (as a +ve number) of the Distressed Securities strategy?\n",
    "Enter the positive number as a percent .e.g. For 5.32% enter 5.32\n",
    "NOTE: You may either round or truncate to 1 decimal place, we will accept either answer\n"
   ]
  },
  {
   "cell_type": "code",
   "execution_count": 84,
   "id": "2714150e-1294-4f0b-ac4d-25946eac6f0d",
   "metadata": {},
   "outputs": [
    {
     "name": "stdout",
     "output_type": "stream",
     "text": [
      "The autoreload extension is already loaded. To reload it, use:\n",
      "  %reload_ext autoreload\n"
     ]
    }
   ],
   "source": [
    "import pandas as pd\n",
    "import edhec_risk_kit_118 as erk\n",
    "%load_ext autoreload\n",
    "%autoreload 2\n",
    "%matplotlib inline"
   ]
  },
  {
   "cell_type": "code",
   "execution_count": 60,
   "id": "b486b148-3480-48bc-8d51-6c9907dfb095",
   "metadata": {},
   "outputs": [],
   "source": [
    "hfi = erk.get_hfi_returns()"
   ]
  },
  {
   "cell_type": "code",
   "execution_count": 61,
   "id": "9f092097-b378-4f6f-81c8-1c4f84976f53",
   "metadata": {},
   "outputs": [],
   "source": [
    "hfi2000 = hfi[\"2000\":]"
   ]
  },
  {
   "cell_type": "code",
   "execution_count": 43,
   "id": "5065714c-e590-406d-a989-d5ebd456bc6f",
   "metadata": {},
   "outputs": [
    {
     "ename": "TypeError",
     "evalue": "_percentile_dispatcher() got multiple values for argument 'a'",
     "output_type": "error",
     "traceback": [
      "\u001b[0;31m---------------------------------------------------------------------------\u001b[0m",
      "\u001b[0;31mTypeError\u001b[0m                                 Traceback (most recent call last)",
      "\u001b[0;32m/tmp/ipykernel_1472/766982367.py\u001b[0m in \u001b[0;36m<module>\u001b[0;34m\u001b[0m\n\u001b[1;32m      1\u001b[0m \u001b[0;32mimport\u001b[0m \u001b[0mnumpy\u001b[0m \u001b[0;32mas\u001b[0m \u001b[0mnp\u001b[0m\u001b[0;34m\u001b[0m\u001b[0;34m\u001b[0m\u001b[0m\n\u001b[0;32m----> 2\u001b[0;31m \u001b[0mnp\u001b[0m\u001b[0;34m.\u001b[0m\u001b[0mpercentile\u001b[0m\u001b[0;34m(\u001b[0m\u001b[0mhfi\u001b[0m\u001b[0;34m,\u001b[0m \u001b[0ma\u001b[0m\u001b[0;34m=\u001b[0m\u001b[0;36m0.01\u001b[0m\u001b[0;34m)\u001b[0m\u001b[0;34m\u001b[0m\u001b[0;34m\u001b[0m\u001b[0m\n\u001b[0m",
      "\u001b[0;32m<__array_function__ internals>\u001b[0m in \u001b[0;36mpercentile\u001b[0;34m(*args, **kwargs)\u001b[0m\n",
      "\u001b[0;31mTypeError\u001b[0m: _percentile_dispatcher() got multiple values for argument 'a'"
     ]
    }
   ],
   "source": [
    "import numpy as np\n",
    "np.percentile(hfi, a=0.01)"
   ]
  },
  {
   "cell_type": "code",
   "execution_count": 54,
   "id": "e87c3e5a-70bc-4089-838c-86a58b0697e9",
   "metadata": {},
   "outputs": [
    {
     "data": {
      "text/plain": [
       "Convertible Arbitrage     0.031674\n",
       "CTA Global                0.050938\n",
       "Distressed Securities     0.042642\n",
       "Emerging Markets          0.065496\n",
       "Equity Market Neutral     0.019800\n",
       "Event Driven              0.038540\n",
       "Fixed Income Arbitrage    0.030748\n",
       "Global Macro              0.022632\n",
       "Long/Short Equity         0.045060\n",
       "Merger Arbitrage          0.022654\n",
       "Relative Value            0.021788\n",
       "Short Selling             0.107684\n",
       "Funds Of Funds            0.027200\n",
       "dtype: float64"
      ]
     },
     "execution_count": 54,
     "metadata": {},
     "output_type": "execute_result"
    }
   ],
   "source": [
    "erk.var_historic(hfi2000, level=1)"
   ]
  },
  {
   "cell_type": "code",
   "execution_count": 63,
   "id": "16cb32d7-a16b-41e4-a1db-8625eb511da2",
   "metadata": {},
   "outputs": [
    {
     "data": {
      "text/plain": [
       "0.0"
      ]
     },
     "execution_count": 63,
     "metadata": {},
     "output_type": "execute_result"
    }
   ],
   "source": [
    "from scipy.stats import norm\n",
    "norm.ppf(.5)"
   ]
  },
  {
   "cell_type": "code",
   "execution_count": 68,
   "id": "3a98e0ca-bf88-4f75-99e2-68b6921a9794",
   "metadata": {},
   "outputs": [
    {
     "data": {
      "text/plain": [
       "-0.994457883209753"
      ]
     },
     "execution_count": 68,
     "metadata": {},
     "output_type": "execute_result"
    }
   ],
   "source": [
    "norm.ppf(.16)"
   ]
  },
  {
   "cell_type": "code",
   "execution_count": 69,
   "id": "647b9491-c66b-4225-a7f0-1a90b712762a",
   "metadata": {},
   "outputs": [
    {
     "data": {
      "text/plain": [
       "0.04966909110627921"
      ]
     },
     "execution_count": 69,
     "metadata": {},
     "output_type": "execute_result"
    }
   ],
   "source": [
    "erk.var_gaussianCF(hfi2000[\"Distressed Securities\"])"
   ]
  },
  {
   "cell_type": "code",
   "execution_count": 70,
   "id": "a89560b2-9a62-4b57-ae95-e20bc2f9bdf4",
   "metadata": {},
   "outputs": [],
   "source": [
    "#### 3.14"
   ]
  },
  {
   "cell_type": "markdown",
   "id": "38b963bc-aa42-4b6d-b914-caf21a6c0aeb",
   "metadata": {},
   "source": [
    "## 2. Question 2\n",
    "\n",
    "Use the same data set at the previous question. What was the 1% VaR for the same strategy after applying the Cornish-Fisher Adjustment?\n",
    "Enter the answer as a positive number, in percent terms. e.g. for 5.32% enter 5.32\n"
   ]
  },
  {
   "cell_type": "code",
   "execution_count": 62,
   "id": "fd480f9a-2747-47a3-9a25-c5638532e3e8",
   "metadata": {},
   "outputs": [
    {
     "data": {
      "text/plain": [
       "0.031430176939280456"
      ]
     },
     "execution_count": 62,
     "metadata": {},
     "output_type": "execute_result"
    }
   ],
   "source": [
    "erk.var_gaussianCF(hfi2000[\"Distressed Securities\"])"
   ]
  },
  {
   "cell_type": "code",
   "execution_count": 71,
   "id": "6bed1205-77ad-4e5a-8c24-4695c3fe8524",
   "metadata": {},
   "outputs": [
    {
     "data": {
      "text/plain": [
       "4.96"
      ]
     },
     "execution_count": 71,
     "metadata": {},
     "output_type": "execute_result"
    }
   ],
   "source": [
    "4.96"
   ]
  },
  {
   "cell_type": "markdown",
   "id": "6debf8b3-683d-4640-9a64-d422d06a1ee0",
   "metadata": {},
   "source": [
    "## 3. Question 3\n",
    "Use the same dataset as the previous question. What was the Monthly Historic VaR at the 1% level (as a +ve number) of the Distressed Securities strategy?\n",
    "Enter the answer as a positive number, in percent terms. e.g. for 5.32% enter 5.32\n"
   ]
  },
  {
   "cell_type": "code",
   "execution_count": 38,
   "id": "3140ce68-77a0-4faa-87f4-dcd3f0b2392a",
   "metadata": {},
   "outputs": [
    {
     "data": {
      "text/plain": [
       "0.04264199999999999"
      ]
     },
     "execution_count": 38,
     "metadata": {},
     "output_type": "execute_result"
    }
   ],
   "source": [
    "erk.var_historic(hfi2000[\"Distressed Securities\"])"
   ]
  },
  {
   "cell_type": "code",
   "execution_count": 72,
   "id": "cf71bf37-1d0f-4db1-8117-5bc5f1907f42",
   "metadata": {},
   "outputs": [
    {
     "data": {
      "text/plain": [
       "4.26"
      ]
     },
     "execution_count": 72,
     "metadata": {},
     "output_type": "execute_result"
    }
   ],
   "source": [
    "4.26\n"
   ]
  },
  {
   "cell_type": "markdown",
   "id": "caeab279-a7b8-450a-93c2-ac02f8144e4e",
   "metadata": {},
   "source": [
    "## 4. Question 4\n",
    "Next, load the 30 industry return data using the erk.get_ind_returns() function that we developed during the lab sessions. For purposes of the remaining questions, use data during the 5 year period 2013-2017 (both inclusive) to estimate the expected returns as well as the covariance matrix. To be able to respond to the questions, you will need to build the MSR, EW and GMV portfolios consisting of the “Books”, “Steel”, \"Oil\", and \"Mines\" industries. Assume the risk free rate over the 5 year period is 10%.\n",
    "What is the weight of Steel in the EW Portfolio?\n",
    "Enter the answer in percent terms rounded to one decimal place. e.g. for 5.32% enter 5.3\n"
   ]
  },
  {
   "cell_type": "code",
   "execution_count": null,
   "id": "6bb85d5e-e428-42f0-8655-5f572b1c374e",
   "metadata": {},
   "outputs": [],
   "source": [
    "25"
   ]
  },
  {
   "cell_type": "markdown",
   "id": "69760a4a-aeb9-486e-9399-79631409cfae",
   "metadata": {},
   "source": [
    "What is the weight of the largest component of the MSR portfolio?   \n",
    "\n",
    "Enter the answer in percent terms rounded to one decimal place. e.g. for 5.32% enter 5.3"
   ]
  },
  {
   "cell_type": "markdown",
   "id": "9fcf607f-2e35-459b-9e35-eca5fd8190ed",
   "metadata": {},
   "source": [
    "5.\n",
    "Question 5\n",
    "\n",
    "What is the weight of the largest component of the MSR portfolio?   "
   ]
  },
  {
   "cell_type": "code",
   "execution_count": 86,
   "id": "8c6e21f4-20df-461c-8516-06650e2d1991",
   "metadata": {},
   "outputs": [],
   "source": [
    "rfr  = 0.1"
   ]
  },
  {
   "cell_type": "code",
   "execution_count": 87,
   "id": "17edd2dc-9ae0-4bea-bc00-1da649dd847c",
   "metadata": {},
   "outputs": [
    {
     "data": {
      "text/plain": [
       "27.86"
      ]
     },
     "execution_count": 87,
     "metadata": {},
     "output_type": "execute_result"
    }
   ],
   "source": [
    "wmsr = erk.msr(rfr, er, cov)\n",
    "round(wmsr.max()*100,2)"
   ]
  },
  {
   "cell_type": "code",
   "execution_count": 91,
   "id": "ad3d2589-3e9f-41f8-a28e-1e512004f7bc",
   "metadata": {},
   "outputs": [
    {
     "data": {
      "text/plain": [
       "array([2.63654847e-14, 2.46766173e-01, 5.10271935e-02, 5.33516641e-14,\n",
       "       0.00000000e+00, 1.96676996e-14, 4.17456810e-14, 2.12179411e-14,\n",
       "       6.89782157e-15, 2.78642691e-01, 0.00000000e+00, 0.00000000e+00,\n",
       "       2.63070551e-14, 0.00000000e+00, 0.00000000e+00, 2.45053914e-01,\n",
       "       0.00000000e+00, 0.00000000e+00, 0.00000000e+00, 5.47691254e-14,\n",
       "       1.97623654e-14, 1.78510028e-01, 5.14511812e-14, 2.46374891e-14,\n",
       "       5.33047483e-14, 5.41696121e-15, 3.06691230e-14, 5.42521566e-14,\n",
       "       5.45775120e-14, 3.99767943e-14])"
      ]
     },
     "execution_count": 91,
     "metadata": {},
     "output_type": "execute_result"
    }
   ],
   "source": [
    "wmsr"
   ]
  },
  {
   "cell_type": "markdown",
   "id": "1e446cbd-a222-4c64-b525-49efc72a5c36",
   "metadata": {},
   "source": [
    "6.\n",
    "Question 6\n",
    "\n",
    "Which of the 4 components has the largest weight in the MSR portfolio?"
   ]
  },
  {
   "cell_type": "code",
   "execution_count": 80,
   "id": "0b40c9b4-4ee8-4029-b743-a23ab8b9359d",
   "metadata": {
    "tags": []
   },
   "outputs": [],
   "source": [
    "# Steel"
   ]
  },
  {
   "cell_type": "markdown",
   "id": "cc2a3544-0996-4161-bd14-a001694cf45b",
   "metadata": {},
   "source": [
    "7.\n",
    "Question 7\n",
    "\n",
    "How many of the components of the MSR portfolio have non-zero weights?  "
   ]
  },
  {
   "cell_type": "code",
   "execution_count": 73,
   "id": "5a9bbaa2-27b0-4937-bde9-31208156d8b3",
   "metadata": {},
   "outputs": [
    {
     "data": {
      "text/plain": [
       "1"
      ]
     },
     "execution_count": 73,
     "metadata": {},
     "output_type": "execute_result"
    }
   ],
   "source": [
    "1"
   ]
  },
  {
   "cell_type": "markdown",
   "id": "4b957d9c-9b81-4cee-ab02-a05b9b7b490f",
   "metadata": {},
   "source": [
    "8.\n",
    "Question 8\n",
    "\n",
    "What is the weight of the largest component of the GMV portfolio?"
   ]
  },
  {
   "cell_type": "code",
   "execution_count": 81,
   "id": "a776b1c1-c3cd-4fad-8df1-cdf4a356a988",
   "metadata": {},
   "outputs": [
    {
     "data": {
      "text/plain": [
       "47.7"
      ]
     },
     "execution_count": 81,
     "metadata": {},
     "output_type": "execute_result"
    }
   ],
   "source": [
    "47.70"
   ]
  },
  {
   "cell_type": "markdown",
   "id": "39a94235-8874-48a1-8940-6acfa0c26e7c",
   "metadata": {},
   "source": [
    "9.\n",
    "Question 9\n",
    "\n",
    "Which of the 4 components has the largest weight in the GMV portfolio?    "
   ]
  },
  {
   "cell_type": "code",
   "execution_count": 75,
   "id": "2b3be70b-6b2d-4407-9996-779d6e9b87cd",
   "metadata": {},
   "outputs": [],
   "source": [
    "# Books"
   ]
  },
  {
   "cell_type": "markdown",
   "id": "299edb1e-2832-43d3-a610-19ba170e3b29",
   "metadata": {},
   "source": [
    "10.\n",
    "Question 10\n",
    "\n",
    " How many of the components of the GMV portfolio have non-zero weights?    "
   ]
  },
  {
   "cell_type": "code",
   "execution_count": 82,
   "id": "94e33476-1cac-4ded-91a1-cc039f5a68a1",
   "metadata": {},
   "outputs": [
    {
     "data": {
      "text/plain": [
       "3"
      ]
     },
     "execution_count": 82,
     "metadata": {},
     "output_type": "execute_result"
    }
   ],
   "source": [
    "3"
   ]
  },
  {
   "cell_type": "code",
   "execution_count": null,
   "id": "87c7c8ae-faa8-4bc4-bd0b-9f42527c77c2",
   "metadata": {},
   "outputs": [],
   "source": []
  }
 ],
 "metadata": {
  "kernelspec": {
   "display_name": "Python",
   "language": "python",
   "name": "conda-env-python-py"
  },
  "language_info": {
   "codemirror_mode": {
    "name": "ipython",
    "version": 3
   },
   "file_extension": ".py",
   "mimetype": "text/x-python",
   "name": "python",
   "nbconvert_exporter": "python",
   "pygments_lexer": "ipython3",
   "version": "3.7.10"
  }
 },
 "nbformat": 4,
 "nbformat_minor": 5
}
